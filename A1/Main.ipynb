{
 "cells": [
  {
   "cell_type": "markdown",
   "id": "585f023b-c72e-4d50-8e0a-40fe009e1fb1",
   "metadata": {},
   "source": [
    "# Demonstration Notebook for Assignment 1"
   ]
  },
  {
   "cell_type": "code",
   "execution_count": null,
   "id": "c466f752-d406-48f3-a96a-e8c237a813ed",
   "metadata": {},
   "outputs": [],
   "source": [
    "from main import *"
   ]
  },
  {
   "cell_type": "markdown",
   "id": "07cbb9d5-0d78-4837-a754-00b72c69b968",
   "metadata": {},
   "source": [
    "Below is a mini example text to show if the functions work properly"
   ]
  },
  {
   "cell_type": "code",
   "execution_count": 2,
   "id": "9e921a44-cd9d-4f54-bd20-82c70b5cff80",
   "metadata": {},
   "outputs": [],
   "source": [
    "example_input = \"\"\"Supervised learning is the machine learning task of learning a function that maps an input to an output based on example input-output pairs. \n",
    "                It infers a function from labeled training data consisting of a set of training examples. \n",
    "                In supervised learning, each example is a pair consisting of an input object (typically a vector) and a desired output value (also called the supervisory signal).\"\"\""
   ]
  },
  {
   "cell_type": "markdown",
   "id": "54cf7914-2003-4bce-bca1-9c77788066a7",
   "metadata": {
    "scrolled": true
   },
   "source": [
    "## List of the features and their functions:\n",
    "\n",
    "- The part of speech tag: `PoS_tag()`\n",
    "- The universal syntactic relations labels: `dep_relations()`\n",
    "- Dependency path (tree) of sentences: `dep_path()`\n",
    "- Dependency distance form the token to the head word: `dep_dist_to_head()`\n",
    "- "
   ]
  },
  {
   "cell_type": "code",
   "execution_count": 3,
   "id": "36108459-56fe-48d3-ba13-d6c5a5680a09",
   "metadata": {
    "scrolled": true
   },
   "outputs": [
    {
     "data": {
      "text/plain": [
       "[{'token': 'Supervised', 'dist_to_head': -1},\n",
       " {'token': 'learning', 'dist_to_head': -1},\n",
       " {'token': 'is', 'dist_to_head': 0},\n",
       " {'token': 'the', 'dist_to_head': -1},\n",
       " {'token': 'machine', 'dist_to_head': 2},\n",
       " {'token': 'learning', 'dist_to_head': 1},\n",
       " {'token': 'task', 'dist_to_head': 1},\n",
       " {'token': 'of', 'dist_to_head': 1},\n",
       " {'token': 'learning', 'dist_to_head': 1},\n",
       " {'token': 'a', 'dist_to_head': -1},\n",
       " {'token': 'function', 'dist_to_head': 2},\n",
       " {'token': 'that', 'dist_to_head': -1},\n",
       " {'token': 'maps', 'dist_to_head': 2},\n",
       " {'token': 'an', 'dist_to_head': -1},\n",
       " {'token': 'input', 'dist_to_head': 2},\n",
       " {'token': 'to', 'dist_to_head': 1},\n",
       " {'token': 'an', 'dist_to_head': -1},\n",
       " {'token': 'output', 'dist_to_head': 2},\n",
       " {'token': 'based', 'dist_to_head': 1},\n",
       " {'token': 'on', 'dist_to_head': 1},\n",
       " {'token': 'example', 'dist_to_head': 1},\n",
       " {'token': 'input', 'dist_to_head': -2},\n",
       " {'token': '-', 'dist_to_head': -1},\n",
       " {'token': 'output', 'dist_to_head': -1},\n",
       " {'token': 'pairs', 'dist_to_head': 5},\n",
       " {'token': '.', 'dist_to_head': 23},\n",
       " {'token': '\\n                ', 'dist_to_head': 1},\n",
       " {'token': 'It', 'dist_to_head': -1},\n",
       " {'token': 'infers', 'dist_to_head': 0},\n",
       " {'token': 'a', 'dist_to_head': -1},\n",
       " {'token': 'function', 'dist_to_head': 2},\n",
       " {'token': 'from', 'dist_to_head': 3},\n",
       " {'token': 'labeled', 'dist_to_head': -2},\n",
       " {'token': 'training', 'dist_to_head': -1},\n",
       " {'token': 'data', 'dist_to_head': 3},\n",
       " {'token': 'consisting', 'dist_to_head': 1},\n",
       " {'token': 'of', 'dist_to_head': 1},\n",
       " {'token': 'a', 'dist_to_head': -1},\n",
       " {'token': 'set', 'dist_to_head': 2},\n",
       " {'token': 'of', 'dist_to_head': 1},\n",
       " {'token': 'training', 'dist_to_head': -1},\n",
       " {'token': 'examples', 'dist_to_head': 2},\n",
       " {'token': '.', 'dist_to_head': 14},\n",
       " {'token': '\\n                ', 'dist_to_head': 1},\n",
       " {'token': 'In', 'dist_to_head': -6},\n",
       " {'token': 'supervised', 'dist_to_head': -1},\n",
       " {'token': 'learning', 'dist_to_head': 2},\n",
       " {'token': ',', 'dist_to_head': -3},\n",
       " {'token': 'each', 'dist_to_head': -1},\n",
       " {'token': 'example', 'dist_to_head': -1},\n",
       " {'token': 'is', 'dist_to_head': 0},\n",
       " {'token': 'a', 'dist_to_head': -1},\n",
       " {'token': 'pair', 'dist_to_head': 2},\n",
       " {'token': 'consisting', 'dist_to_head': 1},\n",
       " {'token': 'of', 'dist_to_head': 1},\n",
       " {'token': 'an', 'dist_to_head': -2},\n",
       " {'token': 'input', 'dist_to_head': -1},\n",
       " {'token': 'object', 'dist_to_head': 3},\n",
       " {'token': '(', 'dist_to_head': 1},\n",
       " {'token': 'typically', 'dist_to_head': -2},\n",
       " {'token': 'a', 'dist_to_head': -1},\n",
       " {'token': 'vector', 'dist_to_head': 4},\n",
       " {'token': ')', 'dist_to_head': 5},\n",
       " {'token': 'and', 'dist_to_head': 11},\n",
       " {'token': 'a', 'dist_to_head': -3},\n",
       " {'token': 'desired', 'dist_to_head': -2},\n",
       " {'token': 'output', 'dist_to_head': -1},\n",
       " {'token': 'value', 'dist_to_head': -3},\n",
       " {'token': '(', 'dist_to_head': -2},\n",
       " {'token': 'also', 'dist_to_head': -1},\n",
       " {'token': 'called', 'dist_to_head': 18},\n",
       " {'token': 'the', 'dist_to_head': -2},\n",
       " {'token': 'supervisory', 'dist_to_head': -1},\n",
       " {'token': 'signal', 'dist_to_head': 3},\n",
       " {'token': ')', 'dist_to_head': 4},\n",
       " {'token': '.', 'dist_to_head': 25}]"
      ]
     },
     "execution_count": 3,
     "metadata": {},
     "output_type": "execute_result"
    }
   ],
   "source": [
    "dep_dist_to_head(example_input)"
   ]
  },
  {
   "cell_type": "code",
   "execution_count": null,
   "id": "9773cf3a-0c8e-49fd-8b10-c3ba1650ab59",
   "metadata": {},
   "outputs": [],
   "source": []
  }
 ],
 "metadata": {
  "kernelspec": {
   "display_name": "Python 3 (ipykernel)",
   "language": "python",
   "name": "python3"
  },
  "language_info": {
   "codemirror_mode": {
    "name": "ipython",
    "version": 3
   },
   "file_extension": ".py",
   "mimetype": "text/x-python",
   "name": "python",
   "nbconvert_exporter": "python",
   "pygments_lexer": "ipython3",
   "version": "3.10.12"
  }
 },
 "nbformat": 4,
 "nbformat_minor": 5
}
