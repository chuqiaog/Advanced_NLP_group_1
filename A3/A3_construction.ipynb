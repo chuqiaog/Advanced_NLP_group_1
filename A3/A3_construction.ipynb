{
 "cells": [
  {
   "cell_type": "markdown",
   "id": "9ea9e5d9-937b-40b6-a0e2-0669880dc28d",
   "metadata": {},
   "source": [
    "# Advanced NLP Assignment 3, Group 1\n",
    "Thijs Vollebregt(2670637), Chuqiao Guo(2798305), Yijing Zhang(2818171), Danna Shao(2663369)"
   ]
  },
  {
   "cell_type": "markdown",
   "id": "af15ca83-82fa-4ab5-a709-0873f9000ad0",
   "metadata": {},
   "source": [
    "## Baseline model"
   ]
  },
  {
   "cell_type": "markdown",
   "id": "e6d78048-52bb-4602-a41d-66151566d50f",
   "metadata": {},
   "source": [
    "### Importing datasets and libraries:\n",
    "In this section, corpus is load and preprocessed into huggingface dataset type."
   ]
  },
  {
   "cell_type": "code",
   "execution_count": 1,
   "id": "0bab441c-e114-4778-884c-a7d74b602788",
   "metadata": {
    "scrolled": true,
    "tags": []
   },
   "outputs": [
    {
     "data": {
      "application/vnd.jupyter.widget-view+json": {
       "model_id": "",
       "version_major": 2,
       "version_minor": 0
      },
      "text/plain": [
       "Map:   0%|          | 0/42466 [00:00<?, ? examples/s]"
      ]
     },
     "metadata": {},
     "output_type": "display_data"
    },
    {
     "data": {
      "application/vnd.jupyter.widget-view+json": {
       "model_id": "",
       "version_major": 2,
       "version_minor": 0
      },
      "text/plain": [
       "Map:   0%|          | 0/5441 [00:00<?, ? examples/s]"
      ]
     },
     "metadata": {},
     "output_type": "display_data"
    },
    {
     "data": {
      "application/vnd.jupyter.widget-view+json": {
       "model_id": "",
       "version_major": 2,
       "version_minor": 0
      },
      "text/plain": [
       "Map:   0%|          | 0/5328 [00:00<?, ? examples/s]"
      ]
     },
     "metadata": {},
     "output_type": "display_data"
    },
    {
     "data": {
      "application/vnd.jupyter.widget-view+json": {
       "model_id": "",
       "version_major": 2,
       "version_minor": 0
      },
      "text/plain": [
       "Map:   0%|          | 0/42466 [00:00<?, ? examples/s]"
      ]
     },
     "metadata": {},
     "output_type": "display_data"
    },
    {
     "data": {
      "application/vnd.jupyter.widget-view+json": {
       "model_id": "",
       "version_major": 2,
       "version_minor": 0
      },
      "text/plain": [
       "Map:   0%|          | 0/5441 [00:00<?, ? examples/s]"
      ]
     },
     "metadata": {},
     "output_type": "display_data"
    },
    {
     "data": {
      "application/vnd.jupyter.widget-view+json": {
       "model_id": "",
       "version_major": 2,
       "version_minor": 0
      },
      "text/plain": [
       "Map:   0%|          | 0/5328 [00:00<?, ? examples/s]"
      ]
     },
     "metadata": {},
     "output_type": "display_data"
    }
   ],
   "source": [
    "import warnings\n",
    "warnings.filterwarnings('ignore')\n",
    "\n",
    "from read_and_preprocess import *\n",
    "import baseline_ds\n",
    "from baseline_ds import tokenize_and_align_labels\n",
    "\n",
    "\n",
    "from datasets import load_metric"
   ]
  },
  {
   "cell_type": "code",
   "execution_count": 2,
   "id": "fae11b4e-3885-418e-a881-dd8eecbb4287",
   "metadata": {
    "tags": []
   },
   "outputs": [],
   "source": [
    "import transformers\n",
    "from transformers import AutoTokenizer, AutoModelForTokenClassification, TrainingArguments, Trainer, DataCollatorForTokenClassification\n"
   ]
  },
  {
   "cell_type": "markdown",
   "id": "25bc19b5-066f-4534-86e4-97238b53cc73",
   "metadata": {},
   "source": [
    "### Basic settings:"
   ]
  },
  {
   "cell_type": "code",
   "execution_count": 2,
   "id": "3cfb19ea-7a4f-488a-800e-34ccb0532a58",
   "metadata": {},
   "outputs": [],
   "source": [
    "metric = load_metric(\"seqeval\")\n",
    "task = \"srl\"\n",
    "model_checkpoint = \"bert-base-uncased\" # bert-base-uncased for better percision, distilbert-base-uncased for faster run\n",
    "batch_size = 16\n",
    "tokenizer = AutoTokenizer.from_pretrained(model_checkpoint)"
   ]
  },
  {
   "cell_type": "markdown",
   "id": "05768c52-bd05-42f2-9c85-f564b171ebdb",
   "metadata": {},
   "source": [
    "### Creating basline model"
   ]
  },
  {
   "cell_type": "code",
   "execution_count": 3,
   "id": "22ae8d42-e091-42c8-8ffe-c6d5460adcea",
   "metadata": {},
   "outputs": [
    {
     "name": "stderr",
     "output_type": "stream",
     "text": [
      "Some weights of BertForTokenClassification were not initialized from the model checkpoint at bert-base-uncased and are newly initialized: ['classifier.bias', 'classifier.weight']\n",
      "You should probably TRAIN this model on a down-stream task to be able to use it for predictions and inference.\n"
     ]
    }
   ],
   "source": [
    "model = AutoModelForTokenClassification.from_pretrained(model_checkpoint, num_labels=len(baseline_ds.label_dict))\n",
    "model_name = model_checkpoint.split(\"/\")[-1]\n",
    "\n",
    "args = TrainingArguments(\n",
    "    f\"{model_name}-finetuned-{task}\",\n",
    "    evaluation_strategy = \"epoch\",\n",
    "    learning_rate=2e-5,\n",
    "    per_device_train_batch_size=batch_size,\n",
    "    per_device_eval_batch_size=batch_size,\n",
    "    num_train_epochs=3,\n",
    "    weight_decay=0.01,\n",
    "    push_to_hub=False,\n",
    ")\n",
    "\n",
    "data_collator = DataCollatorForTokenClassification(tokenizer)\n",
    "label_list = baseline_ds.label_list\n",
    "\n",
    "base_trainer = Trainer(\n",
    "    model,\n",
    "    args,\n",
    "    train_dataset=baseline_ds.tokenized_train,\n",
    "    eval_dataset=baseline_ds.tokenized_dev,\n",
    "    data_collator=data_collator,\n",
    "    tokenizer=tokenizer,\n",
    "    compute_metrics=baseline_ds.compute_metrics\n",
    ")"
   ]
  },
  {
   "cell_type": "markdown",
   "id": "fa887ac8-d6d4-498d-a1d0-ddf1a3c3f2b8",
   "metadata": {},
   "source": [
    "### Train and evaluate:"
   ]
  },
  {
   "cell_type": "code",
   "execution_count": 5,
   "id": "9dfe3640-e5fa-4e08-8084-03e8a4272305",
   "metadata": {},
   "outputs": [
    {
     "data": {
      "text/html": [
       "\n",
       "    <div>\n",
       "      \n",
       "      <progress value='7965' max='7965' style='width:300px; height:20px; vertical-align: middle;'></progress>\n",
       "      [7965/7965 05:52, Epoch 3/3]\n",
       "    </div>\n",
       "    <table border=\"1\" class=\"dataframe\">\n",
       "  <thead>\n",
       " <tr style=\"text-align: left;\">\n",
       "      <th>Epoch</th>\n",
       "      <th>Training Loss</th>\n",
       "      <th>Validation Loss</th>\n",
       "      <th>Precision</th>\n",
       "      <th>Recall</th>\n",
       "      <th>F1</th>\n",
       "      <th>Accuracy</th>\n",
       "    </tr>\n",
       "  </thead>\n",
       "  <tbody>\n",
       "    <tr>\n",
       "      <td>1</td>\n",
       "      <td>0.088200</td>\n",
       "      <td>0.108037</td>\n",
       "      <td>0.798406</td>\n",
       "      <td>0.819914</td>\n",
       "      <td>0.809017</td>\n",
       "      <td>0.970571</td>\n",
       "    </tr>\n",
       "    <tr>\n",
       "      <td>2</td>\n",
       "      <td>0.063000</td>\n",
       "      <td>0.105916</td>\n",
       "      <td>0.817995</td>\n",
       "      <td>0.827277</td>\n",
       "      <td>0.822610</td>\n",
       "      <td>0.972739</td>\n",
       "    </tr>\n",
       "    <tr>\n",
       "      <td>3</td>\n",
       "      <td>0.048100</td>\n",
       "      <td>0.109497</td>\n",
       "      <td>0.820079</td>\n",
       "      <td>0.833860</td>\n",
       "      <td>0.826912</td>\n",
       "      <td>0.973297</td>\n",
       "    </tr>\n",
       "  </tbody>\n",
       "</table><p>"
      ],
      "text/plain": [
       "<IPython.core.display.HTML object>"
      ]
     },
     "metadata": {},
     "output_type": "display_data"
    },
    {
     "data": {
      "text/plain": [
       "TrainOutput(global_step=7965, training_loss=0.07123838856919187, metrics={'train_runtime': 352.3275, 'train_samples_per_second': 361.59, 'train_steps_per_second': 22.607, 'total_flos': 4555060725912480.0, 'train_loss': 0.07123838856919187, 'epoch': 3.0})"
      ]
     },
     "execution_count": 5,
     "metadata": {},
     "output_type": "execute_result"
    }
   ],
   "source": [
    "base_trainer.train()"
   ]
  },
  {
   "cell_type": "code",
   "execution_count": 8,
   "id": "4f3c210b-4dee-41f0-bff3-dc6a014dc3e4",
   "metadata": {},
   "outputs": [
    {
     "data": {
      "text/html": [],
      "text/plain": [
       "<IPython.core.display.HTML object>"
      ]
     },
     "metadata": {},
     "output_type": "display_data"
    }
   ],
   "source": [
    "base_pred, base_labels, _ = base_trainer.predict(baseline_ds.tokenized_test)"
   ]
  },
  {
   "cell_type": "code",
   "execution_count": 9,
   "id": "217d9c29-0f27-43ec-bf2f-111844530413",
   "metadata": {},
   "outputs": [
    {
     "data": {
      "text/plain": [
       "{'ADJ': {'precision': 0.7312252964426877,\n",
       "  'recall': 0.7142857142857143,\n",
       "  'f1': 0.72265625,\n",
       "  'number': 259},\n",
       " 'ADV': {'precision': 0.6910569105691057,\n",
       "  'recall': 0.6378986866791745,\n",
       "  'f1': 0.6634146341463414,\n",
       "  'number': 533},\n",
       " 'ARG0': {'precision': 0.9242424242424242,\n",
       "  'recall': 0.8714285714285714,\n",
       "  'f1': 0.8970588235294117,\n",
       "  'number': 70},\n",
       " 'ARG1': {'precision': 0.6554621848739496,\n",
       "  'recall': 0.75,\n",
       "  'f1': 0.6995515695067266,\n",
       "  'number': 104},\n",
       " 'ARG1-DSP': {'precision': 0.0, 'recall': 0.0, 'f1': 0.0, 'number': 1},\n",
       " 'ARG2': {'precision': 0.2,\n",
       "  'recall': 0.25,\n",
       "  'f1': 0.22222222222222224,\n",
       "  'number': 8},\n",
       " 'ARG3': {'precision': 0.0, 'recall': 0.0, 'f1': 0.0, 'number': 2},\n",
       " 'ARGM-ADJ': {'precision': 0.0, 'recall': 0.0, 'f1': 0.0, 'number': 1},\n",
       " 'ARGM-ADV': {'precision': 0.0, 'recall': 0.0, 'f1': 0.0, 'number': 1},\n",
       " 'ARGM-CXN': {'precision': 0.3333333333333333,\n",
       "  'recall': 0.4,\n",
       "  'f1': 0.3636363636363636,\n",
       "  'number': 5},\n",
       " 'ARGM-DIR': {'precision': 0.0, 'recall': 0.0, 'f1': 0.0, 'number': 1},\n",
       " 'ARGM-LOC': {'precision': 0.6666666666666666,\n",
       "  'recall': 0.8,\n",
       "  'f1': 0.7272727272727272,\n",
       "  'number': 10},\n",
       " 'ARGM-MNR': {'precision': 0.0, 'recall': 0.0, 'f1': 0.0, 'number': 8},\n",
       " 'ARGM-TMP': {'precision': 0.0, 'recall': 0.0, 'f1': 0.0, 'number': 2},\n",
       " 'CAU': {'precision': 0.5666666666666667,\n",
       "  'recall': 0.6666666666666666,\n",
       "  'f1': 0.6126126126126126,\n",
       "  'number': 51},\n",
       " 'COM': {'precision': 0.3333333333333333,\n",
       "  'recall': 0.38461538461538464,\n",
       "  'f1': 0.3571428571428571,\n",
       "  'number': 13},\n",
       " 'CXN': {'precision': 0.6428571428571429,\n",
       "  'recall': 0.75,\n",
       "  'f1': 0.6923076923076924,\n",
       "  'number': 12},\n",
       " 'DIR': {'precision': 0.47619047619047616,\n",
       "  'recall': 0.425531914893617,\n",
       "  'f1': 0.449438202247191,\n",
       "  'number': 47},\n",
       " 'DIS': {'precision': 0.7873015873015873,\n",
       "  'recall': 0.8294314381270903,\n",
       "  'f1': 0.8078175895765471,\n",
       "  'number': 299},\n",
       " 'DSP': {'precision': 0.0, 'recall': 0.0, 'f1': 0.0, 'number': 2},\n",
       " 'EXT': {'precision': 0.780952380952381,\n",
       "  'recall': 0.7454545454545455,\n",
       "  'f1': 0.7627906976744186,\n",
       "  'number': 110},\n",
       " 'GOL': {'precision': 0.5,\n",
       "  'recall': 0.20833333333333334,\n",
       "  'f1': 0.29411764705882354,\n",
       "  'number': 24},\n",
       " 'LOC': {'precision': 0.5756302521008403,\n",
       "  'recall': 0.6555023923444976,\n",
       "  'f1': 0.6129753914988815,\n",
       "  'number': 209},\n",
       " 'LVB': {'precision': 0.725,\n",
       "  'recall': 0.8169014084507042,\n",
       "  'f1': 0.7682119205298014,\n",
       "  'number': 71},\n",
       " 'MNR': {'precision': 0.5855263157894737,\n",
       "  'recall': 0.5705128205128205,\n",
       "  'f1': 0.577922077922078,\n",
       "  'number': 156},\n",
       " 'MOD': {'precision': 0.9326530612244898,\n",
       "  'recall': 0.970276008492569,\n",
       "  'f1': 0.9510926118626432,\n",
       "  'number': 471},\n",
       " 'NEG': {'precision': 0.9177489177489178,\n",
       "  'recall': 0.9592760180995475,\n",
       "  'f1': 0.9380530973451326,\n",
       "  'number': 221},\n",
       " 'PRD': {'precision': 0.45161290322580644,\n",
       "  'recall': 0.3181818181818182,\n",
       "  'f1': 0.3733333333333333,\n",
       "  'number': 44},\n",
       " 'PRP': {'precision': 0.5581395348837209,\n",
       "  'recall': 0.631578947368421,\n",
       "  'f1': 0.5925925925925927,\n",
       "  'number': 76},\n",
       " 'PRR': {'precision': 0.7878787878787878,\n",
       "  'recall': 0.7536231884057971,\n",
       "  'f1': 0.7703703703703704,\n",
       "  'number': 69},\n",
       " 'RG0': {'precision': 0.8710100568430258,\n",
       "  'recall': 0.907103825136612,\n",
       "  'f1': 0.8886906089672094,\n",
       "  'number': 2196},\n",
       " 'RG1': {'precision': 0.8440088348978465,\n",
       "  'recall': 0.885060799073538,\n",
       "  'f1': 0.8640474844544941,\n",
       "  'number': 3454},\n",
       " 'RG2': {'precision': 0.7552565180824222,\n",
       "  'recall': 0.7835951134380453,\n",
       "  'f1': 0.7691648822269808,\n",
       "  'number': 1146},\n",
       " 'RG3': {'precision': 0.7142857142857143,\n",
       "  'recall': 0.33783783783783783,\n",
       "  'f1': 0.4587155963302752,\n",
       "  'number': 74},\n",
       " 'RG4': {'precision': 0.640625,\n",
       "  'recall': 0.7321428571428571,\n",
       "  'f1': 0.6833333333333332,\n",
       "  'number': 56},\n",
       " 'RG5': {'precision': 0.0, 'recall': 0.0, 'f1': 0.0, 'number': 1},\n",
       " 'RGA': {'precision': 0.0, 'recall': 0.0, 'f1': 0.0, 'number': 2},\n",
       " 'TMP': {'precision': 0.7986577181208053,\n",
       "  'recall': 0.8576576576576577,\n",
       "  'f1': 0.8271068635968724,\n",
       "  'number': 555},\n",
       " 'V': {'precision': 0.7647058823529411,\n",
       "  'recall': 0.8125,\n",
       "  'f1': 0.787878787878788,\n",
       "  'number': 16},\n",
       " '_': {'precision': 0.7772353851649005,\n",
       "  'recall': 0.798629801810619,\n",
       "  'f1': 0.7877873649912508,\n",
       "  'number': 8174},\n",
       " 'overall_precision': 0.7944717830593655,\n",
       " 'overall_recall': 0.8179368330279185,\n",
       " 'overall_f1': 0.8060335670278309,\n",
       " 'overall_accuracy': 0.974109952388013}"
      ]
     },
     "execution_count": 9,
     "metadata": {},
     "output_type": "execute_result"
    }
   ],
   "source": [
    "baseline_ds.class_results(base_pred, base_labels)"
   ]
  },
  {
   "cell_type": "markdown",
   "id": "6dcf87ea-280f-41e7-83c1-f4a635c16b43",
   "metadata": {},
   "source": [
    "### Limitations of the baseline model:\n",
    "- Cannot precisely handle sentences with duplicated predicates."
   ]
  },
  {
   "cell_type": "markdown",
   "id": "09df0197-5106-4f6b-9d60-e5dcab740587",
   "metadata": {},
   "source": [
    "## Advanced model"
   ]
  },
  {
   "cell_type": "markdown",
   "id": "af75ff95-bcae-4aca-905a-d91ef3d4ec2e",
   "metadata": {},
   "source": [
    "### Importing datasets and libraries:"
   ]
  },
  {
   "cell_type": "code",
   "execution_count": 5,
   "id": "cc31cb2e-f1e5-4df2-9906-808ed189bd5d",
   "metadata": {
    "tags": []
   },
   "outputs": [],
   "source": [
    "#from baseline_ds import label_dict, label_list, merge_into_sentences\n",
    "## FILE SEPARATED, IMPORT FROM ADVANCED_DS INSTEAD\n",
    "import datasets"
   ]
  },
  {
   "cell_type": "code",
   "execution_count": 10,
   "id": "90e24279-4f7e-41a4-bca1-a1b0f9dd85e7",
   "metadata": {
    "tags": []
   },
   "outputs": [],
   "source": [
    "trainsent, devsent, testsent =merge_into_sentences(preprocessed_train), merge_into_sentences(preprocessed_dev),merge_into_sentences(preprocessed_test)\n",
    "trainds, devds, testds = datasets.Dataset.from_list(trainsent), datasets.Dataset.from_list(devsent), datasets.Dataset.from_list(testsent)\n",
    "# print(trainsent[0])"
   ]
  },
  {
   "cell_type": "code",
   "execution_count": 11,
   "id": "ef5ccbcb-fd11-416f-9faf-4a2313615893",
   "metadata": {
    "tags": []
   },
   "outputs": [
    {
     "data": {
      "application/vnd.jupyter.widget-view+json": {
       "model_id": "",
       "version_major": 2,
       "version_minor": 0
      },
      "text/plain": [
       "Map:   0%|          | 0/42466 [00:00<?, ? examples/s]"
      ]
     },
     "metadata": {},
     "output_type": "display_data"
    },
    {
     "data": {
      "application/vnd.jupyter.widget-view+json": {
       "model_id": "",
       "version_major": 2,
       "version_minor": 0
      },
      "text/plain": [
       "Map:   0%|          | 0/5441 [00:00<?, ? examples/s]"
      ]
     },
     "metadata": {},
     "output_type": "display_data"
    },
    {
     "data": {
      "application/vnd.jupyter.widget-view+json": {
       "model_id": "",
       "version_major": 2,
       "version_minor": 0
      },
      "text/plain": [
       "Map:   0%|          | 0/5328 [00:00<?, ? examples/s]"
      ]
     },
     "metadata": {},
     "output_type": "display_data"
    }
   ],
   "source": [
    "tokenized_train = trainds.map(tokenize_and_align_labels, batched=True)\n",
    "tokenized_dev = devds.map(tokenize_and_align_labels, batched=True)\n",
    "tokenized_test = testds.map(tokenize_and_align_labels, batched=True)"
   ]
  },
  {
   "cell_type": "markdown",
   "id": "dbf2292a-3faf-4d58-b39d-cb0e046f87f0",
   "metadata": {},
   "source": [
    "### Creating advanced model"
   ]
  },
  {
   "cell_type": "code",
   "execution_count": 13,
   "id": "0a71ff33-b9c0-49d7-9b9d-f3f8ba011340",
   "metadata": {
    "tags": []
   },
   "outputs": [
    {
     "name": "stderr",
     "output_type": "stream",
     "text": [
      "Some weights of DistilBertForTokenClassification were not initialized from the model checkpoint at distilbert-base-uncased and are newly initialized: ['classifier.weight', 'classifier.bias']\n",
      "You should probably TRAIN this model on a down-stream task to be able to use it for predictions and inference.\n"
     ]
    }
   ],
   "source": [
    "model = AutoModelForTokenClassification.from_pretrained(model_checkpoint, num_labels=len(baseline_ds.label_dict))\n",
    "model_name = model_checkpoint.split(\"/\")[-1]\n",
    "\n",
    "args = TrainingArguments(\n",
    "    f\"{model_name}-finetuned-{task}\",\n",
    "    evaluation_strategy = \"epoch\",\n",
    "    learning_rate=2e-5,\n",
    "    per_device_train_batch_size=batch_size,\n",
    "    per_device_eval_batch_size=batch_size,\n",
    "    num_train_epochs=3,\n",
    "    weight_decay=0.01,\n",
    "    push_to_hub=False,\n",
    ")\n",
    "\n",
    "data_collator = DataCollatorForTokenClassification(tokenizer)\n",
    "label_list = baseline_ds.label_list\n",
    "\n",
    "base_trainer = Trainer(\n",
    "    model,\n",
    "    args,\n",
    "    train_dataset=tokenized_train,\n",
    "    eval_dataset=tokenized_dev,\n",
    "    data_collator=data_collator,\n",
    "    tokenizer=tokenizer,\n",
    "    compute_metrics=baseline_ds.compute_metrics\n",
    ")"
   ]
  },
  {
   "cell_type": "markdown",
   "id": "2b998f8f-cefc-41a6-a30e-4cec823e1457",
   "metadata": {},
   "source": [
    "### Train and Evaluation"
   ]
  },
  {
   "cell_type": "code",
   "execution_count": null,
   "id": "4a2515db-2ded-4129-a056-0be21ef36d23",
   "metadata": {
    "tags": []
   },
   "outputs": [
    {
     "name": "stderr",
     "output_type": "stream",
     "text": [
      "You're using a DistilBertTokenizerFast tokenizer. Please note that with a fast tokenizer, using the `__call__` method is faster than using a method to encode the text followed by a call to the `pad` method to get a padded encoding.\n"
     ]
    },
    {
     "data": {
      "text/html": [
       "\n",
       "    <div>\n",
       "      \n",
       "      <progress value='998' max='7965' style='width:300px; height:20px; vertical-align: middle;'></progress>\n",
       "      [ 998/7965 19:43 < 2:17:57, 0.84 it/s, Epoch 0.38/3]\n",
       "    </div>\n",
       "    <table border=\"1\" class=\"dataframe\">\n",
       "  <thead>\n",
       " <tr style=\"text-align: left;\">\n",
       "      <th>Epoch</th>\n",
       "      <th>Training Loss</th>\n",
       "      <th>Validation Loss</th>\n",
       "    </tr>\n",
       "  </thead>\n",
       "  <tbody>\n",
       "  </tbody>\n",
       "</table><p>"
      ],
      "text/plain": [
       "<IPython.core.display.HTML object>"
      ]
     },
     "metadata": {},
     "output_type": "display_data"
    }
   ],
   "source": [
    "base_trainer.train()"
   ]
  },
  {
   "cell_type": "code",
   "execution_count": null,
   "id": "c34cf95a-349a-4515-a4e4-8a4d19c1583d",
   "metadata": {},
   "outputs": [],
   "source": [
    "base_pred, base_labels, _ = base_trainer.predict(tokenized_test)\n"
   ]
  },
  {
   "cell_type": "code",
   "execution_count": null,
   "id": "fa868206-8be5-4a9d-a5c5-c2b3248ceaea",
   "metadata": {},
   "outputs": [],
   "source": [
    "baseline_ds.class_results(base_pred, base_labels)"
   ]
  }
 ],
 "metadata": {
  "kernelspec": {
   "display_name": "Python 3 (ipykernel)",
   "language": "python",
   "name": "python3"
  },
  "language_info": {
   "codemirror_mode": {
    "name": "ipython",
    "version": 3
   },
   "file_extension": ".py",
   "mimetype": "text/x-python",
   "name": "python",
   "nbconvert_exporter": "python",
   "pygments_lexer": "ipython3",
   "version": "3.10.12"
  }
 },
 "nbformat": 4,
 "nbformat_minor": 5
}
